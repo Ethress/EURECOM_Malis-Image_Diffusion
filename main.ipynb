{
 "cells": [
  {
   "cell_type": "markdown",
   "metadata": {},
   "source": [
    "# UNET\n",
    "\n",
    "Some ChatGPT was used, most notably to debug the UNET"
   ]
  },
  {
   "cell_type": "markdown",
   "metadata": {},
   "source": [
    "#### Libraries"
   ]
  },
  {
   "cell_type": "code",
   "execution_count": 33,
   "metadata": {},
   "outputs": [],
   "source": [
    "import torch\n",
    "import torch.nn as nn\n",
    "import datetime\n",
    "import torch.optim as optim\n",
    "import torch.nn.functional as F \n",
    "import torchvision\n",
    "from torchvision import datasets, transforms\n",
    "import math\n",
    "import matplotlib.pyplot as plt\n",
    "import torchvision.utils as vutils"
   ]
  },
  {
   "cell_type": "markdown",
   "metadata": {},
   "source": [
    "#### Parameters"
   ]
  },
  {
   "cell_type": "code",
   "execution_count": 34,
   "metadata": {},
   "outputs": [
    {
     "name": "stdout",
     "output_type": "stream",
     "text": [
      "Files already downloaded and verified\n"
     ]
    }
   ],
   "source": [
    "\"\"\"\n",
    "batchsize: 1 12 24\n",
    "train epoch: 1 20 100\n",
    "lr: 1e-2 1e-4\n",
    "\"\"\"\n",
    "\n",
    "# BEST PARAMETERS: batch=24, train_epoch=1, lr=1e-4\n",
    "\n",
    "# Model parameters\n",
    "batch_size = 100\n",
    "lr = 1e-4\n",
    "train_epoch = 1\n",
    "img_size = 32\n",
    "timesteps = 50\n",
    "dataset_path = \"./datasets\"\n",
    "\n",
    "\n",
    "device = torch.device(0 if torch.cuda.is_available() else \"cpu\")\n",
    "\n",
    "# Resize and preprocess the images \n",
    "transform = transforms.Compose([\n",
    "    transforms.Resize(img_size),\n",
    "    transforms.ToTensor(),\n",
    "    transforms.Normalize(mean=([0.5]), std=([0.5]))\n",
    "])\n",
    "\n",
    "trainset = datasets.LFWPeople(dataset_path, download=True, transform=transform)\n",
    "train_loader = torch.utils.data.DataLoader(trainset, batch_size=batch_size, shuffle=True, num_workers=0)\n",
    "images, labels = next(iter(train_loader))       # Create a dataloader"
   ]
  },
  {
   "cell_type": "markdown",
   "metadata": {},
   "source": [
    "#### Model"
   ]
  },
  {
   "cell_type": "code",
   "execution_count": 35,
   "metadata": {},
   "outputs": [],
   "source": [
    "class Block(nn.Module):\n",
    "    def __init__(self, channel_in, channel_out, kernel_size=3, upsample=False, downsample=False):\n",
    "        super().__init__()\n",
    "        stride = 2 if downsample else 1\n",
    "        self.norm1 = nn.GroupNorm(8, channel_in, affine=True, eps=1e-4)\n",
    "        self.conv1 = nn.Conv2d(channel_in, channel_in, kernel_size, stride, kernel_size // 2)\n",
    "        self.norm2 = nn.GroupNorm(8, channel_in, affine=True, eps=1e-4)\n",
    "        self.conv2 = nn.Conv2d(channel_in, channel_out, kernel_size, 1, kernel_size // 2)\n",
    "        self.skip_conv = nn.Conv2d(channel_in, channel_out, kernel_size, stride, kernel_size // 2)\n",
    "        self.upsample = nn.Upsample(scale_factor=2, mode=\"nearest\") if upsample else None\n",
    "        self.act_fnc = nn.ELU()\n",
    "\n",
    "    def forward(self, x):\n",
    "        if self.upsample:\n",
    "            x = self.upsample(x)\n",
    "        x = self.act_fnc(self.norm1(x))\n",
    "        skip = self.skip_conv(x)\n",
    "        x = self.act_fnc(self.norm2(self.conv1(x)))\n",
    "        x = self.conv2(x)\n",
    "        return x + skip\n",
    "\n",
    "class EncoderDecoder(nn.Module):\n",
    "    def __init__(self, channels, ch=64, blocks=(1, 2, 4), is_encoder=True):\n",
    "        super().__init__()\n",
    "        widths = list(blocks) if is_encoder else list(blocks)[::-1]\n",
    "        next_widths = widths[1:] + [widths[-1]] if is_encoder else widths[:-1]\n",
    "        next_widths = [w * ch for w in next_widths]\n",
    "        widths = [w * ch for w in widths]\n",
    "\n",
    "        if is_encoder:\n",
    "            self.initial_conv = nn.Conv2d(channels, widths[0], 3, 1, 1)\n",
    "            self.blocks = nn.ModuleList([\n",
    "                Block(w_in, w_out, downsample=True)\n",
    "                for w_in, w_out in zip(widths, next_widths)\n",
    "            ])\n",
    "        else:\n",
    "            self.initial_block = Block(widths[0], widths[0], downsample=False)\n",
    "            self.blocks = nn.ModuleList([\n",
    "                Block(w_in * 2, w_out, upsample=True)\n",
    "                for w_in, w_out in zip([widths[0]] + widths[:-1], widths)\n",
    "            ])\n",
    "\n",
    "        self.final_conv = None if is_encoder else nn.Conv2d(widths[-1] * 2, channels, 3, 1, 1)\n",
    "\n",
    "    def forward(self, x, skip_list=None):\n",
    "        if skip_list is None:  # Encoding the images (first part Unet)\n",
    "            x = self.initial_conv(x)\n",
    "            skip_list = [x]\n",
    "            for block in self.blocks:\n",
    "                x = block(x)\n",
    "                skip_list.append(x)\n",
    "            return x, skip_list\n",
    "        else:           # Decoding the images (second part)\n",
    "            x = self.initial_block(x)\n",
    "            for block in self.blocks:\n",
    "                skip = skip_list.pop()\n",
    "                x = torch.cat((x, skip), dim=1)\n",
    "                x = block(x)\n",
    "            skip = skip_list.pop()\n",
    "            x = torch.cat((x, skip), dim=1)\n",
    "            return self.final_conv(x)\n",
    "\n",
    "class SinusoidalPosEmb(nn.Module):\n",
    "    def __init__(self, dim):\n",
    "        super().__init__()\n",
    "        self.dim = dim\n",
    "\n",
    "    def forward(self, x):\n",
    "        device = x.device\n",
    "        half_dim = self.dim // 2\n",
    "        emb = math.log(10000) / (half_dim - 1)\n",
    "        emb = torch.exp(torch.arange(half_dim, device=device) * -emb)\n",
    "        emb = x[:, None] * emb[None, :]\n",
    "        emb = torch.cat((emb.sin(), emb.cos()), dim=-1)\n",
    "        return emb\n",
    "\n",
    "class UNet(nn.Module):\n",
    "    def __init__(self, channel_in=3, ch=32, blocks=(1, 2, 4)):\n",
    "        super().__init__()\n",
    "        # Time embedding MLP\n",
    "        self.time_mlp = nn.Sequential(\n",
    "            SinusoidalPosEmb(ch),  # Use `ch` here for consistency\n",
    "            nn.Linear(ch, 2 * ch),\n",
    "            nn.GELU(),\n",
    "            nn.Linear(2 * ch, ch),\n",
    "            nn.GELU()\n",
    "        )\n",
    "\n",
    "        # Encoder and decoder\n",
    "        self.encoder = EncoderDecoder(channel_in, ch, blocks, is_encoder=True)\n",
    "        self.decoder = EncoderDecoder(channel_in, ch, blocks, is_encoder=False)\n",
    "\n",
    "    def forward(self, x, index):\n",
    "        index_features = self.time_mlp(index)\n",
    "        bottleneck, skip_list = self.encoder(x)\n",
    "        recon_img = self.decoder(bottleneck, skip_list=skip_list)\n",
    "        return recon_img\n",
    "\n"
   ]
  },
  {
   "cell_type": "markdown",
   "metadata": {},
   "source": [
    "#### Noise manager"
   ]
  },
  {
   "cell_type": "code",
   "execution_count": 36,
   "metadata": {},
   "outputs": [],
   "source": [
    "def cosine_alphas_bar(timesteps, s=0.008):\n",
    "    steps = timesteps + 1\n",
    "    x = torch.linspace(0, steps, steps)\n",
    "    alphas_bar = torch.cos(((x / steps) + s) / (1 + s) * torch.pi * 0.5) ** 2\n",
    "    alphas_bar = alphas_bar / alphas_bar[0]\n",
    "    return alphas_bar[:timesteps]"
   ]
  },
  {
   "cell_type": "markdown",
   "metadata": {},
   "source": [
    "#### Init model"
   ]
  },
  {
   "cell_type": "code",
   "execution_count": 37,
   "metadata": {},
   "outputs": [
    {
     "name": "stdout",
     "output_type": "stream",
     "text": [
      "init finished\n"
     ]
    }
   ],
   "source": [
    "u_net = UNet(channel_in=images.shape[1], ch=32, blocks=(1, 2, 4)).to(device)\n",
    "\n",
    "optimizer = optim.Adam(u_net.parameters(), lr=lr)       # Adam optimizer\n",
    "lr_schedule = optim.lr_scheduler.CosineAnnealingLR(optimizer, T_max=train_epoch, eta_min=0)\n",
    "\n",
    "loss_log = []\n",
    "\n",
    "alphas = torch.flip(cosine_alphas_bar(timesteps), (0,)).to(device)\n",
    "\n",
    "print(\"init finished\")"
   ]
  },
  {
   "cell_type": "markdown",
   "metadata": {},
   "source": [
    "#### Training"
   ]
  },
  {
   "cell_type": "code",
   "execution_count": 38,
   "metadata": {},
   "outputs": [
    {
     "name": "stdout",
     "output_type": "stream",
     "text": [
      "0 23:01:09.241658\n",
      "FINISHED\n"
     ]
    }
   ],
   "source": [
    "u_net.train()\n",
    "for epoch in range(train_epoch):\n",
    "    for num_iter, (images, labels) in enumerate(train_loader):\n",
    "\n",
    "        if num_iter % 1000 == 0:\n",
    "            now = datetime.datetime.now()\n",
    "            print(num_iter, now.time())\n",
    "\n",
    "        images = images.to(device)\n",
    "        bs = images.shape[0]    # Mini-batch\n",
    "\n",
    "        rand_index = torch.randint(timesteps, (bs,), device=device)\n",
    "        random_sample = torch.randn_like(images)\n",
    "        alpha_batch = alphas[rand_index].reshape(bs, 1, 1, 1)\n",
    "\n",
    "        noise_input = alpha_batch.sqrt() * images + (1 - alpha_batch).sqrt() * random_sample\n",
    "\n",
    "        img_pred = u_net(noise_input, rand_index)\n",
    "\n",
    "        loss = F.l1_loss(img_pred, images)\n",
    "\n",
    "        optimizer.zero_grad()\n",
    "        loss.backward()\n",
    "        optimizer.step()\n",
    "\n",
    "        # log the generator training loss\n",
    "        loss_log.append(loss.item())\n",
    "\n",
    "    lr_schedule.step()\n",
    "\n",
    "print(\"FINISHED\")"
   ]
  },
  {
   "cell_type": "markdown",
   "metadata": {},
   "source": [
    "#### Plot loss"
   ]
  },
  {
   "cell_type": "code",
   "execution_count": 39,
   "metadata": {},
   "outputs": [
    {
     "data": {
      "image/png": "[encoded data removed]",
      "text/plain": [
       "<Figure size 1200x600 with 1 Axes>"
      ]
     },
     "metadata": {},
     "output_type": "display_data"
    }
   ],
   "source": [
    "plt.figure(figsize=(12, 6))\n",
    "\n",
    "plt.subplot(1, 2, 1)\n",
    "plt.plot(loss_log, label=\"Loss per Iteration\")\n",
    "plt.xlabel(\"Iteration\")\n",
    "plt.ylabel(\"Loss\")\n",
    "plt.title(\"Loss Log\")\n",
    "plt.legend()\n",
    "\n",
    "plt.tight_layout()\n",
    "plt.show()"
   ]
  },
  {
   "cell_type": "markdown",
   "metadata": {},
   "source": [
    "#### Save model"
   ]
  },
  {
   "cell_type": "code",
   "execution_count": 40,
   "metadata": {},
   "outputs": [],
   "source": [
    "current_datetime = datetime.datetime.now().strftime('%Y-%m-%d_%H-%M-%S')\n",
    "filename = (\n",
    "    f'img_pred_output_{current_datetime}_bs{batch_size}_lr{lr}_epoch{train_epoch}_img{img_size}.png'\n",
    ")\n",
    "\n",
    "# Save the prediction as an image\n",
    "plt.figure(figsize=(20, 10))\n",
    "out = vutils.make_grid(img_pred.detach().cpu(), nrow=16, normalize=True)\n",
    "plt.imshow(out.numpy().transpose((1, 2, 0)))\n",
    "plt.axis('off')  # Hide axes\n",
    "\n",
    "plt.savefig(\"./output_img/\" + filename, bbox_inches='tight')  # Save the image\n",
    "plt.close()  # Close the figure"
   ]
  }
 ],
 "metadata": {
  "kernelspec": {
   "display_name": ".venv",
   "language": "python",
   "name": "python3"
  },
  "language_info": {
   "codemirror_mode": {
    "name": "ipython",
    "version": 3
   },
   "file_extension": ".py",
   "mimetype": "text/x-python",
   "name": "python",
   "nbconvert_exporter": "python",
   "pygments_lexer": "ipython3",
   "version": "3.9.13"
  }
 },
 "nbformat": 4,
 "nbformat_minor": 2
}
